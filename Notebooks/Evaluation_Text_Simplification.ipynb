{
  "nbformat": 4,
  "nbformat_minor": 0,
  "metadata": {
    "colab": {
      "provenance": [],
      "authorship_tag": "ABX9TyMvQs+nxS+EBa5kEGrwwuGA",
      "include_colab_link": true
    },
    "kernelspec": {
      "name": "python3",
      "display_name": "Python 3"
    },
    "language_info": {
      "name": "python"
    },
    "widgets": {
      "application/vnd.jupyter.widget-state+json": {
        "58092c9c45f543bdabc7d1d67c173a82": {
          "model_module": "@jupyter-widgets/controls",
          "model_name": "HBoxModel",
          "model_module_version": "1.5.0",
          "state": {
            "_dom_classes": [],
            "_model_module": "@jupyter-widgets/controls",
            "_model_module_version": "1.5.0",
            "_model_name": "HBoxModel",
            "_view_count": null,
            "_view_module": "@jupyter-widgets/controls",
            "_view_module_version": "1.5.0",
            "_view_name": "HBoxView",
            "box_style": "",
            "children": [
              "IPY_MODEL_e798a0068052411e965aa8e07747a2d1",
              "IPY_MODEL_7e1d2b1569eb4b79ab9836fd35f4c9b8",
              "IPY_MODEL_787c4b1a150a45858114f544336d0161"
            ],
            "layout": "IPY_MODEL_effb9e63a78d446ab33b4fb68018b7b5"
          }
        },
        "e798a0068052411e965aa8e07747a2d1": {
          "model_module": "@jupyter-widgets/controls",
          "model_name": "HTMLModel",
          "model_module_version": "1.5.0",
          "state": {
            "_dom_classes": [],
            "_model_module": "@jupyter-widgets/controls",
            "_model_module_version": "1.5.0",
            "_model_name": "HTMLModel",
            "_view_count": null,
            "_view_module": "@jupyter-widgets/controls",
            "_view_module_version": "1.5.0",
            "_view_name": "HTMLView",
            "description": "",
            "description_tooltip": null,
            "layout": "IPY_MODEL_6bdc04a4c9634aa5babf70a51a40f5eb",
            "placeholder": "​",
            "style": "IPY_MODEL_8598a4f3ac34415ea51975cb15aaa45f",
            "value": "100%"
          }
        },
        "7e1d2b1569eb4b79ab9836fd35f4c9b8": {
          "model_module": "@jupyter-widgets/controls",
          "model_name": "FloatProgressModel",
          "model_module_version": "1.5.0",
          "state": {
            "_dom_classes": [],
            "_model_module": "@jupyter-widgets/controls",
            "_model_module_version": "1.5.0",
            "_model_name": "FloatProgressModel",
            "_view_count": null,
            "_view_module": "@jupyter-widgets/controls",
            "_view_module_version": "1.5.0",
            "_view_name": "ProgressView",
            "bar_style": "success",
            "description": "",
            "description_tooltip": null,
            "layout": "IPY_MODEL_21e25d818aac4e328395e7c5784c7949",
            "max": 1,
            "min": 0,
            "orientation": "horizontal",
            "style": "IPY_MODEL_47bbe952a4b6477b9f0d53101c71b821",
            "value": 1
          }
        },
        "787c4b1a150a45858114f544336d0161": {
          "model_module": "@jupyter-widgets/controls",
          "model_name": "HTMLModel",
          "model_module_version": "1.5.0",
          "state": {
            "_dom_classes": [],
            "_model_module": "@jupyter-widgets/controls",
            "_model_module_version": "1.5.0",
            "_model_name": "HTMLModel",
            "_view_count": null,
            "_view_module": "@jupyter-widgets/controls",
            "_view_module_version": "1.5.0",
            "_view_name": "HTMLView",
            "description": "",
            "description_tooltip": null,
            "layout": "IPY_MODEL_b4123a50bf4f451ba9da47606a2aec78",
            "placeholder": "​",
            "style": "IPY_MODEL_3a0289d9db0d481789ab2a0246841934",
            "value": " 1/1 [00:00&lt;00:00,  2.90it/s]"
          }
        },
        "effb9e63a78d446ab33b4fb68018b7b5": {
          "model_module": "@jupyter-widgets/base",
          "model_name": "LayoutModel",
          "model_module_version": "1.2.0",
          "state": {
            "_model_module": "@jupyter-widgets/base",
            "_model_module_version": "1.2.0",
            "_model_name": "LayoutModel",
            "_view_count": null,
            "_view_module": "@jupyter-widgets/base",
            "_view_module_version": "1.2.0",
            "_view_name": "LayoutView",
            "align_content": null,
            "align_items": null,
            "align_self": null,
            "border": null,
            "bottom": null,
            "display": null,
            "flex": null,
            "flex_flow": null,
            "grid_area": null,
            "grid_auto_columns": null,
            "grid_auto_flow": null,
            "grid_auto_rows": null,
            "grid_column": null,
            "grid_gap": null,
            "grid_row": null,
            "grid_template_areas": null,
            "grid_template_columns": null,
            "grid_template_rows": null,
            "height": null,
            "justify_content": null,
            "justify_items": null,
            "left": null,
            "margin": null,
            "max_height": null,
            "max_width": null,
            "min_height": null,
            "min_width": null,
            "object_fit": null,
            "object_position": null,
            "order": null,
            "overflow": null,
            "overflow_x": null,
            "overflow_y": null,
            "padding": null,
            "right": null,
            "top": null,
            "visibility": null,
            "width": null
          }
        },
        "6bdc04a4c9634aa5babf70a51a40f5eb": {
          "model_module": "@jupyter-widgets/base",
          "model_name": "LayoutModel",
          "model_module_version": "1.2.0",
          "state": {
            "_model_module": "@jupyter-widgets/base",
            "_model_module_version": "1.2.0",
            "_model_name": "LayoutModel",
            "_view_count": null,
            "_view_module": "@jupyter-widgets/base",
            "_view_module_version": "1.2.0",
            "_view_name": "LayoutView",
            "align_content": null,
            "align_items": null,
            "align_self": null,
            "border": null,
            "bottom": null,
            "display": null,
            "flex": null,
            "flex_flow": null,
            "grid_area": null,
            "grid_auto_columns": null,
            "grid_auto_flow": null,
            "grid_auto_rows": null,
            "grid_column": null,
            "grid_gap": null,
            "grid_row": null,
            "grid_template_areas": null,
            "grid_template_columns": null,
            "grid_template_rows": null,
            "height": null,
            "justify_content": null,
            "justify_items": null,
            "left": null,
            "margin": null,
            "max_height": null,
            "max_width": null,
            "min_height": null,
            "min_width": null,
            "object_fit": null,
            "object_position": null,
            "order": null,
            "overflow": null,
            "overflow_x": null,
            "overflow_y": null,
            "padding": null,
            "right": null,
            "top": null,
            "visibility": null,
            "width": null
          }
        },
        "8598a4f3ac34415ea51975cb15aaa45f": {
          "model_module": "@jupyter-widgets/controls",
          "model_name": "DescriptionStyleModel",
          "model_module_version": "1.5.0",
          "state": {
            "_model_module": "@jupyter-widgets/controls",
            "_model_module_version": "1.5.0",
            "_model_name": "DescriptionStyleModel",
            "_view_count": null,
            "_view_module": "@jupyter-widgets/base",
            "_view_module_version": "1.2.0",
            "_view_name": "StyleView",
            "description_width": ""
          }
        },
        "21e25d818aac4e328395e7c5784c7949": {
          "model_module": "@jupyter-widgets/base",
          "model_name": "LayoutModel",
          "model_module_version": "1.2.0",
          "state": {
            "_model_module": "@jupyter-widgets/base",
            "_model_module_version": "1.2.0",
            "_model_name": "LayoutModel",
            "_view_count": null,
            "_view_module": "@jupyter-widgets/base",
            "_view_module_version": "1.2.0",
            "_view_name": "LayoutView",
            "align_content": null,
            "align_items": null,
            "align_self": null,
            "border": null,
            "bottom": null,
            "display": null,
            "flex": null,
            "flex_flow": null,
            "grid_area": null,
            "grid_auto_columns": null,
            "grid_auto_flow": null,
            "grid_auto_rows": null,
            "grid_column": null,
            "grid_gap": null,
            "grid_row": null,
            "grid_template_areas": null,
            "grid_template_columns": null,
            "grid_template_rows": null,
            "height": null,
            "justify_content": null,
            "justify_items": null,
            "left": null,
            "margin": null,
            "max_height": null,
            "max_width": null,
            "min_height": null,
            "min_width": null,
            "object_fit": null,
            "object_position": null,
            "order": null,
            "overflow": null,
            "overflow_x": null,
            "overflow_y": null,
            "padding": null,
            "right": null,
            "top": null,
            "visibility": null,
            "width": null
          }
        },
        "47bbe952a4b6477b9f0d53101c71b821": {
          "model_module": "@jupyter-widgets/controls",
          "model_name": "ProgressStyleModel",
          "model_module_version": "1.5.0",
          "state": {
            "_model_module": "@jupyter-widgets/controls",
            "_model_module_version": "1.5.0",
            "_model_name": "ProgressStyleModel",
            "_view_count": null,
            "_view_module": "@jupyter-widgets/base",
            "_view_module_version": "1.2.0",
            "_view_name": "StyleView",
            "bar_color": null,
            "description_width": ""
          }
        },
        "b4123a50bf4f451ba9da47606a2aec78": {
          "model_module": "@jupyter-widgets/base",
          "model_name": "LayoutModel",
          "model_module_version": "1.2.0",
          "state": {
            "_model_module": "@jupyter-widgets/base",
            "_model_module_version": "1.2.0",
            "_model_name": "LayoutModel",
            "_view_count": null,
            "_view_module": "@jupyter-widgets/base",
            "_view_module_version": "1.2.0",
            "_view_name": "LayoutView",
            "align_content": null,
            "align_items": null,
            "align_self": null,
            "border": null,
            "bottom": null,
            "display": null,
            "flex": null,
            "flex_flow": null,
            "grid_area": null,
            "grid_auto_columns": null,
            "grid_auto_flow": null,
            "grid_auto_rows": null,
            "grid_column": null,
            "grid_gap": null,
            "grid_row": null,
            "grid_template_areas": null,
            "grid_template_columns": null,
            "grid_template_rows": null,
            "height": null,
            "justify_content": null,
            "justify_items": null,
            "left": null,
            "margin": null,
            "max_height": null,
            "max_width": null,
            "min_height": null,
            "min_width": null,
            "object_fit": null,
            "object_position": null,
            "order": null,
            "overflow": null,
            "overflow_x": null,
            "overflow_y": null,
            "padding": null,
            "right": null,
            "top": null,
            "visibility": null,
            "width": null
          }
        },
        "3a0289d9db0d481789ab2a0246841934": {
          "model_module": "@jupyter-widgets/controls",
          "model_name": "DescriptionStyleModel",
          "model_module_version": "1.5.0",
          "state": {
            "_model_module": "@jupyter-widgets/controls",
            "_model_module_version": "1.5.0",
            "_model_name": "DescriptionStyleModel",
            "_view_count": null,
            "_view_module": "@jupyter-widgets/base",
            "_view_module_version": "1.2.0",
            "_view_name": "StyleView",
            "description_width": ""
          }
        }
      }
    }
  },
  "cells": [
    {
      "cell_type": "markdown",
      "metadata": {
        "id": "view-in-github",
        "colab_type": "text"
      },
      "source": [
        "<a href=\"https://colab.research.google.com/github/NourEldin-Osama/Text-Simplification/blob/main/Notebooks/Evaluation_Text_Simplification.ipynb\" target=\"_parent\"><img src=\"https://colab.research.google.com/assets/colab-badge.svg\" alt=\"Open In Colab\"/></a>"
      ]
    },
    {
      "cell_type": "markdown",
      "source": [
        "# Evaluation Text Simplification"
      ],
      "metadata": {
        "id": "qi7h3oDNM4tb"
      }
    },
    {
      "cell_type": "code",
      "execution_count": null,
      "metadata": {
        "id": "QfEJD-pbMtfd"
      },
      "outputs": [],
      "source": [
        "%%capture\n",
        "!pip install transformers datasets sacrebleu sacremoses"
      ]
    },
    {
      "cell_type": "code",
      "source": [
        "from transformers import AutoTokenizer, AutoModelForSeq2SeqLM\n",
        "from datasets import load_dataset, load_metric\n",
        "from collections import Counter"
      ],
      "metadata": {
        "id": "i3_0h57VTV2W"
      },
      "execution_count": null,
      "outputs": []
    },
    {
      "cell_type": "code",
      "source": [
        "def simplify(text, model, tokenizer):\n",
        "    encoded_input = tokenizer(text, return_tensors=\"pt\").input_ids\n",
        "    outputs = model.generate(encoded_input)\n",
        "    outputs = tokenizer.decode(outputs[0], skip_special_tokens=True)\n",
        "    return outputs\n",
        "\n",
        "def get_value(List, index, defualt_value=\"\"):\n",
        "    return List[index] if len(List) > index else defualt_value\n",
        "\n",
        "class TextSimplificationModel:\n",
        "    def __init__(self, tokenizers, models):\n",
        "        self.tokenizers = tokenizers\n",
        "        self.models = models\n",
        "\n",
        "    def simplify_voting_ensemble(self, text, repeat=1):\n",
        "        output_sentence = []\n",
        "        simplifications = []\n",
        "        for model, tokenizer in zip(self.models, self.tokenizers):\n",
        "            simplification = simplify(text, model, tokenizer)\n",
        "            simplifications.append(simplification)\n",
        "\n",
        "        splitted_simplifications = [sentence.split() for sentence in simplifications]\n",
        "        max_len_sentence = max([len(sentence) for sentence in splitted_simplifications])\n",
        "        for index in range(max_len_sentence):\n",
        "            words = [\n",
        "                        get_value(splitted_simplifications[0], index),\n",
        "                        get_value(splitted_simplifications[1], index),\n",
        "                        get_value(splitted_simplifications[2], index),\n",
        "                    ]\n",
        "            most_repeated_word, count = Counter(words).most_common(1)[0]\n",
        "            # ignore empty string and if count less than 2\n",
        "            if count > repeat and most_repeated_word:\n",
        "                output_sentence.append(most_repeated_word)\n",
        "        return \" \".join(output_sentence)"
      ],
      "metadata": {
        "id": "5l_J0juhM3jm"
      },
      "execution_count": null,
      "outputs": []
    },
    {
      "cell_type": "code",
      "source": [
        "checkpoint_1 = \"husseinMoh/t5-small-finetuned-text-simplification\"\n",
        "checkpoint_2 = \"husseinMoh/bart-base-finetuned-text-simplification\"\n",
        "checkpoint_3 = \"husseinMoh/flan-t5-small-finetuned-text-simplification\"\n",
        "\n",
        "tokenizer1 = AutoTokenizer.from_pretrained(checkpoint_1)\n",
        "tokenizer2 = AutoTokenizer.from_pretrained(checkpoint_2)\n",
        "tokenizer3 = AutoTokenizer.from_pretrained(checkpoint_3)\n",
        "tokenizers = [tokenizer1,tokenizer2, tokenizer3]\n",
        "print(\"Tokenizers Loaded\")\n",
        "\n",
        "model1 = AutoModelForSeq2SeqLM.from_pretrained(checkpoint_1)\n",
        "model2 = AutoModelForSeq2SeqLM.from_pretrained(checkpoint_2)\n",
        "model3 = AutoModelForSeq2SeqLM.from_pretrained(checkpoint_3)\n",
        "models = [model1, model2, model3]\n",
        "print(\"Models Loaded\")\n",
        "\n",
        "Model = TextSimplificationModel(tokenizers, models)"
      ],
      "metadata": {
        "colab": {
          "base_uri": "https://localhost:8080/"
        },
        "id": "8ZFPY5eUNNae",
        "outputId": "fd41380b-f71d-4544-d76f-df4da05cfb6d"
      },
      "execution_count": null,
      "outputs": [
        {
          "output_type": "stream",
          "name": "stdout",
          "text": [
            "Tokenizers Loaded\n",
            "Models Loaded\n"
          ]
        }
      ]
    },
    {
      "cell_type": "code",
      "source": [
        "test_1_input = \"Hi NourEldin\"\n",
        "print(f\"First input Test example: {test_1_input}\")\n",
        "print(f\"Test 1: {Model.simplify_voting_ensemble(test_1_input, repeat=0) = }\")\n",
        "print(f\"Test 2: {Model.simplify_voting_ensemble(test_1_input, repeat=1) = }\")\n",
        "print(f\"Test 3: {Model.simplify_voting_ensemble(test_1_input, repeat=2) = }\")\n",
        "print()\n",
        "\n",
        "test_2_input = \"The derivation of the equation is demonstrated through various mathematical\"\n",
        "print(f\"Second input Test example: {test_2_input}\")\n",
        "print(f\"Test 1: {Model.simplify_voting_ensemble(test_2_input, repeat=0) = }\")\n",
        "print(f\"Test 2: {Model.simplify_voting_ensemble(test_2_input, repeat=1) = }\")\n",
        "print(f\"Test 3: {Model.simplify_voting_ensemble(test_2_input, repeat=2) = }\")"
      ],
      "metadata": {
        "colab": {
          "base_uri": "https://localhost:8080/"
        },
        "id": "yRY2z7LONVST",
        "outputId": "5a5b471d-4924-4137-c816-0f7aa500377f"
      },
      "execution_count": null,
      "outputs": [
        {
          "output_type": "stream",
          "name": "stdout",
          "text": [
            "First input Test example: Hi NourEldin\n"
          ]
        },
        {
          "output_type": "stream",
          "name": "stderr",
          "text": [
            "/usr/local/lib/python3.10/dist-packages/transformers/generation/utils.py:1346: UserWarning: Using `max_length`'s default (20) to control the generation length. This behaviour is deprecated and will be removed from the config in v5 of Transformers -- we recommend using `max_new_tokens` to control the maximum length of the generation.\n",
            "  warnings.warn(\n",
            "/usr/local/lib/python3.10/dist-packages/transformers/generation/utils.py:1346: UserWarning: Using `max_length`'s default (20) to control the generation length. This behaviour is deprecated and will be removed from the config in v5 of Transformers -- we recommend using `max_new_tokens` to control the maximum length of the generation.\n",
            "  warnings.warn(\n"
          ]
        },
        {
          "output_type": "stream",
          "name": "stdout",
          "text": [
            "Test 1: Model.simplify_voting_ensemble(test_1_input, repeat=0) = 'Hi NourEldin is the oldest of the tribes of the tribes of'\n",
            "Test 2: Model.simplify_voting_ensemble(test_1_input, repeat=1) = 'Hi NourEldin'\n",
            "Test 3: Model.simplify_voting_ensemble(test_1_input, repeat=2) = ''\n",
            "\n",
            "Second input Test example: The derivation of the equation is demonstrated through various mathematical\n",
            "Test 1: Model.simplify_voting_ensemble(test_2_input, repeat=0) = 'Different methods of measuring different kinds of molecules are used by'\n",
            "Test 2: Model.simplify_voting_ensemble(test_2_input, repeat=1) = 'of'\n",
            "Test 3: Model.simplify_voting_ensemble(test_2_input, repeat=2) = ''\n"
          ]
        }
      ]
    },
    {
      "cell_type": "code",
      "source": [
        "raw_datasets = load_dataset(\"wiki_auto\", \"manual\", split=[\"test[:1%]\"])[0]\n",
        "raw_datasets"
      ],
      "metadata": {
        "colab": {
          "base_uri": "https://localhost:8080/",
          "height": 136,
          "referenced_widgets": [
            "58092c9c45f543bdabc7d1d67c173a82",
            "e798a0068052411e965aa8e07747a2d1",
            "7e1d2b1569eb4b79ab9836fd35f4c9b8",
            "787c4b1a150a45858114f544336d0161",
            "effb9e63a78d446ab33b4fb68018b7b5",
            "6bdc04a4c9634aa5babf70a51a40f5eb",
            "8598a4f3ac34415ea51975cb15aaa45f",
            "21e25d818aac4e328395e7c5784c7949",
            "47bbe952a4b6477b9f0d53101c71b821",
            "b4123a50bf4f451ba9da47606a2aec78",
            "3a0289d9db0d481789ab2a0246841934"
          ]
        },
        "id": "ICt09k29OhO1",
        "outputId": "11472815-9b4e-48aa-ec09-828d137d8fde"
      },
      "execution_count": null,
      "outputs": [
        {
          "output_type": "stream",
          "name": "stderr",
          "text": [
            "WARNING:datasets.builder:Found cached dataset wiki_auto (/root/.cache/huggingface/datasets/wiki_auto/manual/1.0.0/eeac705719dc9aa2ff180571dfed6c6649588ccdfde8d45a47d2e47e5c5b93af)\n"
          ]
        },
        {
          "output_type": "display_data",
          "data": {
            "text/plain": [
              "  0%|          | 0/1 [00:00<?, ?it/s]"
            ],
            "application/vnd.jupyter.widget-view+json": {
              "version_major": 2,
              "version_minor": 0,
              "model_id": "58092c9c45f543bdabc7d1d67c173a82"
            }
          },
          "metadata": {}
        },
        {
          "output_type": "execute_result",
          "data": {
            "text/plain": [
              "Dataset({\n",
              "    features: ['alignment_label', 'normal_sentence_id', 'simple_sentence_id', 'normal_sentence', 'simple_sentence', 'gleu_score'],\n",
              "    num_rows: 1181\n",
              "})"
            ]
          },
          "metadata": {},
          "execution_count": 6
        }
      ]
    },
    {
      "cell_type": "code",
      "source": [
        "metric = load_metric(\"sari\")\n",
        "def compute_metrics(decoded_preds, decoded_labels, decoded_inputs):\n",
        "    result = metric.compute(sources=decoded_inputs, predictions=decoded_preds, references=decoded_labels)\n",
        "    return result"
      ],
      "metadata": {
        "colab": {
          "base_uri": "https://localhost:8080/"
        },
        "id": "o8pnuYMcOAbt",
        "outputId": "eb983dd0-466d-4c5f-d739-a5688688fc40"
      },
      "execution_count": null,
      "outputs": [
        {
          "output_type": "stream",
          "name": "stderr",
          "text": [
            "<ipython-input-7-9e6987cd9bf9>:1: FutureWarning: load_metric is deprecated and will be removed in the next major version of datasets. Use 'evaluate.load' instead, from the new library 🤗 Evaluate: https://huggingface.co/docs/evaluate\n",
            "  metric = load_metric(\"sari\")\n"
          ]
        }
      ]
    },
    {
      "cell_type": "code",
      "source": [
        "results = []\n",
        "\n",
        "for row in raw_datasets:\n",
        "    prediction = [Model.simplify_voting_ensemble(row[\"normal_sentence\"], repeat=0)]\n",
        "    source = [row[\"normal_sentence\"]]\n",
        "    reference = [[row[\"simple_sentence\"]]]\n",
        "    result = compute_metrics(prediction, reference, source)\n",
        "    results.append(result['sari'])\n",
        "\n",
        "print(f\"SARI {sum(results)/len(results)}\")"
      ],
      "metadata": {
        "colab": {
          "base_uri": "https://localhost:8080/"
        },
        "id": "RLv0M3n3YQk2",
        "outputId": "860a21ac-ae95-43ac-88b7-318017bbe7b0"
      },
      "execution_count": 8,
      "outputs": [
        {
          "metadata": {
            "tags": null
          },
          "name": "stderr",
          "output_type": "stream",
          "text": [
            "/usr/local/lib/python3.10/dist-packages/transformers/generation/utils.py:1346: UserWarning: Using `max_length`'s default (20) to control the generation length. This behaviour is deprecated and will be removed from the config in v5 of Transformers -- we recommend using `max_new_tokens` to control the maximum length of the generation.\n",
            "  warnings.warn(\n"
          ]
        },
        {
          "output_type": "stream",
          "name": "stdout",
          "text": [
            "SARI 55.22108485726729\n"
          ]
        }
      ]
    }
  ]
}